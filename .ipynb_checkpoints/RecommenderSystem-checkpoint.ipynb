{
 "cells": [
  {
   "cell_type": "code",
   "execution_count": 1,
   "metadata": {
    "collapsed": false
   },
   "outputs": [],
   "source": [
    "from sklearn.preprocessing import scale\n",
    "from surprise import SVD, SVDpp, BaselineOnly, KNNWithMeans, NMF\n",
    "from surprise import Dataset\n",
    "from surprise import Reader\n",
    "from surprise.model_selection import cross_validate, train_test_split"
   ]
  },
  {
   "cell_type": "code",
   "execution_count": 2,
   "metadata": {
    "collapsed": false
   },
   "outputs": [
    {
     "name": "stdout",
     "output_type": "stream",
     "text": [
      "3.9.2\n"
     ]
    }
   ],
   "source": [
    "import platform\n",
    "print(platform.python_version())"
   ]
  },
  {
   "cell_type": "code",
   "execution_count": 3,
   "metadata": {
    "collapsed": false
   },
   "outputs": [],
   "source": [
    "import pandas as pd"
   ]
  },
  {
   "cell_type": "markdown",
   "metadata": {},
   "source": [
    "### Read Ratings Data\n",
    "- Create two dataframes\n",
    "    - all ratings\n",
    "    - ratings from only top users and books"
   ]
  },
  {
   "cell_type": "code",
   "execution_count": 4,
   "metadata": {
    "collapsed": false
   },
   "outputs": [
    {
     "data": {
      "text/html": [
       "<div>\n",
       "<style scoped>\n",
       "    .dataframe tbody tr th:only-of-type {\n",
       "        vertical-align: middle;\n",
       "    }\n",
       "\n",
       "    .dataframe tbody tr th {\n",
       "        vertical-align: top;\n",
       "    }\n",
       "\n",
       "    .dataframe thead th {\n",
       "        text-align: right;\n",
       "    }\n",
       "</style>\n",
       "<table border=\"1\" class=\"dataframe\">\n",
       "  <thead>\n",
       "    <tr style=\"text-align: right;\">\n",
       "      <th></th>\n",
       "      <th>User_Id</th>\n",
       "      <th>Book_Id</th>\n",
       "      <th>Rating</th>\n",
       "    </tr>\n",
       "  </thead>\n",
       "  <tbody>\n",
       "    <tr>\n",
       "      <th>0</th>\n",
       "      <td>114</td>\n",
       "      <td>101170</td>\n",
       "      <td>8</td>\n",
       "    </tr>\n",
       "    <tr>\n",
       "      <th>1</th>\n",
       "      <td>169</td>\n",
       "      <td>93424</td>\n",
       "      <td>7</td>\n",
       "    </tr>\n",
       "    <tr>\n",
       "      <th>2</th>\n",
       "      <td>183</td>\n",
       "      <td>266719</td>\n",
       "      <td>7</td>\n",
       "    </tr>\n",
       "    <tr>\n",
       "      <th>3</th>\n",
       "      <td>183</td>\n",
       "      <td>331686</td>\n",
       "      <td>7</td>\n",
       "    </tr>\n",
       "    <tr>\n",
       "      <th>4</th>\n",
       "      <td>183</td>\n",
       "      <td>368596</td>\n",
       "      <td>7</td>\n",
       "    </tr>\n",
       "  </tbody>\n",
       "</table>\n",
       "</div>"
      ],
      "text/plain": [
       "   User_Id  Book_Id  Rating\n",
       "0      114   101170       8\n",
       "1      169    93424       7\n",
       "2      183   266719       7\n",
       "3      183   331686       7\n",
       "4      183   368596       7"
      ]
     },
     "execution_count": 4,
     "metadata": {},
     "output_type": "execute_result"
    }
   ],
   "source": [
    "ratings = pd.read_csv('./data/train.csv')\n",
    "test_ratings = pd.read_csv('./data/test.csv')\n",
    "ratings.head()"
   ]
  },
  {
   "cell_type": "code",
   "execution_count": 60,
   "metadata": {
    "collapsed": false
   },
   "outputs": [
    {
     "name": "stdout",
     "output_type": "stream",
     "text": [
      "Number of unique users 65053\n",
      "Number of unique books 154621\n",
      "Size of ratings df 333627\n"
     ]
    }
   ],
   "source": [
    "print ('Number of unique users {0}'.format(len(ratings['User_Id'].unique())))\n",
    "print ('Number of unique books {0}'.format(len(ratings['Book_Id'].unique())))\n",
    "print ('Size of ratings df {0}'.format(len(ratings)))"
   ]
  },
  {
   "cell_type": "markdown",
   "metadata": {},
   "source": [
    "- An average book was rated about 2 times\n",
    "- The top 1k books were rated at least 25 times\n",
    "- The top 4k books were rated at least 10 times"
   ]
  },
  {
   "cell_type": "code",
   "execution_count": 63,
   "metadata": {
    "collapsed": false
   },
   "outputs": [
    {
     "data": {
      "text/plain": [
       "count    154621.000000\n",
       "mean          2.157708\n",
       "std           5.744018\n",
       "min           1.000000\n",
       "25%           1.000000\n",
       "50%           1.000000\n",
       "75%           2.000000\n",
       "max         565.000000\n",
       "Name: Book_Id, dtype: float64"
      ]
     },
     "execution_count": 63,
     "metadata": {},
     "output_type": "execute_result"
    }
   ],
   "source": [
    "ratings['Book_Id'].value_counts().describe()"
   ]
  },
  {
   "cell_type": "code",
   "execution_count": 50,
   "metadata": {
    "collapsed": false
   },
   "outputs": [],
   "source": [
    "top_4k_books = ratings['Book_Id'].value_counts()[:4000].keys().tolist()"
   ]
  },
  {
   "cell_type": "markdown",
   "metadata": {},
   "source": [
    "- The average user rated 5 x\n",
    "- The top 1k users rated about 50x"
   ]
  },
  {
   "cell_type": "code",
   "execution_count": 64,
   "metadata": {
    "collapsed": false
   },
   "outputs": [
    {
     "data": {
      "text/plain": [
       "count    65053.000000\n",
       "mean         5.128541\n",
       "std         38.620204\n",
       "min          1.000000\n",
       "25%          1.000000\n",
       "50%          1.000000\n",
       "75%          3.000000\n",
       "max       6845.000000\n",
       "Name: User_Id, dtype: float64"
      ]
     },
     "execution_count": 64,
     "metadata": {},
     "output_type": "execute_result"
    }
   ],
   "source": [
    "ratings['User_Id'].value_counts().describe()"
   ]
  },
  {
   "cell_type": "code",
   "execution_count": 91,
   "metadata": {
    "collapsed": false
   },
   "outputs": [],
   "source": [
    "top_1k_users = ratings['User_Id'].value_counts().keys().tolist()"
   ]
  },
  {
   "cell_type": "markdown",
   "metadata": {},
   "source": [
    "- remove rarely rated books and only keep the top 4k\n",
    "- remove users who rarely rated and only keep the top 1k"
   ]
  },
  {
   "cell_type": "code",
   "execution_count": 92,
   "metadata": {
    "collapsed": false
   },
   "outputs": [
    {
     "name": "stdout",
     "output_type": "stream",
     "text": [
      "df size after removing low-rated books and users 96825\n"
     ]
    }
   ],
   "source": [
    "top_ratings = ratings[ratings['Book_Id'].isin(top_4k_books) & ratings['User_Id'].isin(top_1k_users)]\n",
    "print ('df size after removing low-rated books and users {0}'.format(len(top_ratings)))"
   ]
  },
  {
   "cell_type": "code",
   "execution_count": 93,
   "metadata": {
    "collapsed": false
   },
   "outputs": [],
   "source": [
    "reader = Reader(rating_scale=(1, 10))\n",
    "data = Dataset.load_from_df(ratings, reader)\n",
    "top_ratings_data = Dataset.load_from_df(top_ratings, reader)"
   ]
  },
  {
   "cell_type": "markdown",
   "metadata": {},
   "source": [
    "### Experiment with a few models"
   ]
  },
  {
   "cell_type": "code",
   "execution_count": 17,
   "metadata": {
    "collapsed": false,
    "scrolled": true
   },
   "outputs": [
    {
     "name": "stdout",
     "output_type": "stream",
     "text": [
      "Estimating biases using als...\n",
      "Estimating biases using als...\n",
      "Estimating biases using als...\n",
      "Estimating biases using als...\n",
      "Estimating biases using als...\n",
      "Estimating biases using als...\n",
      "Estimating biases using als...\n",
      "Estimating biases using als...\n",
      "Estimating biases using als...\n",
      "Estimating biases using als...\n",
      "Evaluating RMSE, MAE of algorithm BaselineOnly on 10 split(s).\n",
      "\n",
      "                  Fold 1  Fold 2  Fold 3  Fold 4  Fold 5  Fold 6  Fold 7  Fold 8  Fold 9  Fold 10 Mean    Std     \n",
      "RMSE (testset)    1.6404  1.6516  1.6565  1.6517  1.6439  1.6429  1.6410  1.6484  1.6566  1.6506  1.6483  0.0057  \n",
      "MAE (testset)     1.2795  1.2768  1.2848  1.2825  1.2817  1.2730  1.2726  1.2782  1.2858  1.2806  1.2796  0.0043  \n",
      "Fit time          1.82    1.91    1.97    1.99    2.02    1.99    1.98    2.01    1.98    1.97    1.96    0.05    \n",
      "Test time         0.18    0.17    0.35    0.17    0.30    0.17    0.17    0.17    0.31    0.17    0.21    0.07    \n"
     ]
    },
    {
     "data": {
      "text/plain": [
       "{'test_rmse': array([1.64035871, 1.6516192 , 1.65646442, 1.65174803, 1.64387064,\n",
       "        1.64288313, 1.64099343, 1.64838811, 1.65657639, 1.65055562]),\n",
       " 'test_mae': array([1.27949109, 1.27677656, 1.28482268, 1.28251612, 1.28173684,\n",
       "        1.27303248, 1.27263084, 1.27819191, 1.2858192 , 1.28060143]),\n",
       " 'fit_time': (1.8245670795440674,\n",
       "  1.913559913635254,\n",
       "  1.9697940349578857,\n",
       "  1.9859070777893066,\n",
       "  2.017472982406616,\n",
       "  1.9940779209136963,\n",
       "  1.9795818328857422,\n",
       "  2.007594108581543,\n",
       "  1.9845669269561768,\n",
       "  1.9717018604278564),\n",
       " 'test_time': (0.17700815200805664,\n",
       "  0.16671323776245117,\n",
       "  0.3468489646911621,\n",
       "  0.1673750877380371,\n",
       "  0.30382800102233887,\n",
       "  0.16856694221496582,\n",
       "  0.16748905181884766,\n",
       "  0.17059993743896484,\n",
       "  0.30537891387939453,\n",
       "  0.16700315475463867)}"
      ]
     },
     "execution_count": 17,
     "metadata": {},
     "output_type": "execute_result"
    }
   ],
   "source": [
    "cross_validate(BaselineOnly(), data, measures=['RMSE'], cv=10, verbose=True)"
   ]
  },
  {
   "cell_type": "code",
   "execution_count": 8,
   "metadata": {
    "collapsed": false,
    "scrolled": true
   },
   "outputs": [
    {
     "name": "stdout",
     "output_type": "stream",
     "text": [
      "Computing the cosine similarity matrix...\n",
      "Done computing similarity matrix.\n",
      "Computing the cosine similarity matrix...\n",
      "Done computing similarity matrix.\n",
      "Computing the cosine similarity matrix...\n",
      "Done computing similarity matrix.\n",
      "Computing the cosine similarity matrix...\n",
      "Done computing similarity matrix.\n",
      "Computing the cosine similarity matrix...\n",
      "Done computing similarity matrix.\n",
      "Computing the cosine similarity matrix...\n",
      "Done computing similarity matrix.\n",
      "Computing the cosine similarity matrix...\n",
      "Done computing similarity matrix.\n",
      "Computing the cosine similarity matrix...\n",
      "Done computing similarity matrix.\n",
      "Computing the cosine similarity matrix...\n",
      "Done computing similarity matrix.\n",
      "Computing the cosine similarity matrix...\n",
      "Done computing similarity matrix.\n",
      "Evaluating RMSE of algorithm KNNWithMeans on 10 split(s).\n",
      "\n",
      "                  Fold 1  Fold 2  Fold 3  Fold 4  Fold 5  Fold 6  Fold 7  Fold 8  Fold 9  Fold 10 Mean    Std     \n",
      "RMSE (testset)    1.8498  1.8547  1.8335  1.8313  1.8372  1.8234  1.8415  1.8326  1.8530  1.8275  1.8385  0.0104  \n",
      "Fit time          273.46  286.44  277.23  282.70  276.77  274.86  274.54  266.66  380.32  65911.336850.43 19686.99\n",
      "Test time         1.64    1.94    1.66    1.63    1.94    1.67    1.95    1.61    3.50    2.76    2.03    0.59    \n"
     ]
    },
    {
     "data": {
      "text/plain": [
       "{'test_rmse': array([1.84980278, 1.85468974, 1.83346668, 1.83132629, 1.83718233,\n",
       "        1.82342555, 1.84151089, 1.83262617, 1.85301496, 1.82746491]),\n",
       " 'fit_time': (273.4564709663391,\n",
       "  286.44485807418823,\n",
       "  277.22668957710266,\n",
       "  282.701895236969,\n",
       "  276.76915884017944,\n",
       "  274.86271476745605,\n",
       "  274.5365397930145,\n",
       "  266.6601312160492,\n",
       "  380.3195300102234,\n",
       "  65911.32727193832),\n",
       " 'test_time': (1.6422569751739502,\n",
       "  1.9424610137939453,\n",
       "  1.663651943206787,\n",
       "  1.6305327415466309,\n",
       "  1.9365661144256592,\n",
       "  1.6698250770568848,\n",
       "  1.9496912956237793,\n",
       "  1.6147489547729492,\n",
       "  3.4971721172332764,\n",
       "  2.7631051540374756)}"
      ]
     },
     "execution_count": 8,
     "metadata": {},
     "output_type": "execute_result"
    }
   ],
   "source": [
    "cross_validate(KNNWithMeans(sim_options={'name': 'cosine','user_based': True}, k=10),\n",
    "               data, measures=['RMSE'], cv=10, verbose=True)"
   ]
  },
  {
   "cell_type": "code",
   "execution_count": 96,
   "metadata": {
    "collapsed": false,
    "scrolled": true
   },
   "outputs": [
    {
     "name": "stdout",
     "output_type": "stream",
     "text": [
      "Processing epoch 0\n",
      "Processing epoch 1\n",
      "Processing epoch 2\n",
      "Processing epoch 3\n",
      "Processing epoch 4\n",
      "Processing epoch 5\n",
      "Processing epoch 6\n",
      "Processing epoch 7\n",
      "Processing epoch 8\n",
      "Processing epoch 9\n",
      "Processing epoch 10\n",
      "Processing epoch 11\n",
      "Processing epoch 12\n",
      "Processing epoch 13\n",
      "Processing epoch 14\n",
      "Processing epoch 15\n",
      "Processing epoch 16\n",
      "Processing epoch 17\n",
      "Processing epoch 18\n",
      "Processing epoch 19\n",
      "Processing epoch 20\n",
      "Processing epoch 21\n",
      "Processing epoch 22\n",
      "Processing epoch 23\n",
      "Processing epoch 24\n",
      "Processing epoch 25\n",
      "Processing epoch 26\n",
      "Processing epoch 27\n",
      "Processing epoch 28\n",
      "Processing epoch 29\n",
      "Processing epoch 30\n",
      "Processing epoch 31\n",
      "Processing epoch 32\n",
      "Processing epoch 33\n",
      "Processing epoch 34\n",
      "Processing epoch 35\n",
      "Processing epoch 36\n",
      "Processing epoch 37\n",
      "Processing epoch 38\n",
      "Processing epoch 39\n",
      "Processing epoch 40\n",
      "Processing epoch 41\n",
      "Processing epoch 42\n",
      "Processing epoch 43\n",
      "Processing epoch 44\n",
      "Processing epoch 45\n",
      "Processing epoch 46\n",
      "Processing epoch 47\n",
      "Processing epoch 48\n",
      "Processing epoch 49\n",
      "Processing epoch 0\n",
      "Processing epoch 1\n",
      "Processing epoch 2\n",
      "Processing epoch 3\n",
      "Processing epoch 4\n",
      "Processing epoch 5\n",
      "Processing epoch 6\n",
      "Processing epoch 7\n",
      "Processing epoch 8\n",
      "Processing epoch 9\n",
      "Processing epoch 10\n",
      "Processing epoch 11\n",
      "Processing epoch 12\n",
      "Processing epoch 13\n",
      "Processing epoch 14\n",
      "Processing epoch 15\n",
      "Processing epoch 16\n",
      "Processing epoch 17\n",
      "Processing epoch 18\n",
      "Processing epoch 19\n",
      "Processing epoch 20\n",
      "Processing epoch 21\n",
      "Processing epoch 22\n",
      "Processing epoch 23\n",
      "Processing epoch 24\n",
      "Processing epoch 25\n",
      "Processing epoch 26\n",
      "Processing epoch 27\n",
      "Processing epoch 28\n",
      "Processing epoch 29\n",
      "Processing epoch 30\n",
      "Processing epoch 31\n",
      "Processing epoch 32\n",
      "Processing epoch 33\n",
      "Processing epoch 34\n",
      "Processing epoch 35\n",
      "Processing epoch 36\n",
      "Processing epoch 37\n",
      "Processing epoch 38\n",
      "Processing epoch 39\n",
      "Processing epoch 40\n",
      "Processing epoch 41\n",
      "Processing epoch 42\n",
      "Processing epoch 43\n",
      "Processing epoch 44\n",
      "Processing epoch 45\n",
      "Processing epoch 46\n",
      "Processing epoch 47\n",
      "Processing epoch 48\n",
      "Processing epoch 49\n",
      "Processing epoch 0\n",
      "Processing epoch 1\n",
      "Processing epoch 2\n",
      "Processing epoch 3\n",
      "Processing epoch 4\n",
      "Processing epoch 5\n",
      "Processing epoch 6\n",
      "Processing epoch 7\n",
      "Processing epoch 8\n",
      "Processing epoch 9\n",
      "Processing epoch 10\n",
      "Processing epoch 11\n",
      "Processing epoch 12\n",
      "Processing epoch 13\n",
      "Processing epoch 14\n",
      "Processing epoch 15\n",
      "Processing epoch 16\n",
      "Processing epoch 17\n",
      "Processing epoch 18\n",
      "Processing epoch 19\n",
      "Processing epoch 20\n",
      "Processing epoch 21\n",
      "Processing epoch 22\n",
      "Processing epoch 23\n",
      "Processing epoch 24\n",
      "Processing epoch 25\n",
      "Processing epoch 26\n",
      "Processing epoch 27\n",
      "Processing epoch 28\n",
      "Processing epoch 29\n",
      "Processing epoch 30\n",
      "Processing epoch 31\n",
      "Processing epoch 32\n",
      "Processing epoch 33\n",
      "Processing epoch 34\n",
      "Processing epoch 35\n",
      "Processing epoch 36\n",
      "Processing epoch 37\n",
      "Processing epoch 38\n",
      "Processing epoch 39\n",
      "Processing epoch 40\n",
      "Processing epoch 41\n",
      "Processing epoch 42\n",
      "Processing epoch 43\n",
      "Processing epoch 44\n",
      "Processing epoch 45\n",
      "Processing epoch 46\n",
      "Processing epoch 47\n",
      "Processing epoch 48\n",
      "Processing epoch 49\n",
      "Processing epoch 0\n",
      "Processing epoch 1\n",
      "Processing epoch 2\n",
      "Processing epoch 3\n",
      "Processing epoch 4\n",
      "Processing epoch 5\n",
      "Processing epoch 6\n",
      "Processing epoch 7\n",
      "Processing epoch 8\n",
      "Processing epoch 9\n",
      "Processing epoch 10\n",
      "Processing epoch 11\n",
      "Processing epoch 12\n",
      "Processing epoch 13\n",
      "Processing epoch 14\n",
      "Processing epoch 15\n",
      "Processing epoch 16\n",
      "Processing epoch 17\n",
      "Processing epoch 18\n",
      "Processing epoch 19\n",
      "Processing epoch 20\n",
      "Processing epoch 21\n",
      "Processing epoch 22\n",
      "Processing epoch 23\n",
      "Processing epoch 24\n",
      "Processing epoch 25\n",
      "Processing epoch 26\n",
      "Processing epoch 27\n",
      "Processing epoch 28\n",
      "Processing epoch 29\n",
      "Processing epoch 30\n",
      "Processing epoch 31\n",
      "Processing epoch 32\n",
      "Processing epoch 33\n",
      "Processing epoch 34\n",
      "Processing epoch 35\n",
      "Processing epoch 36\n",
      "Processing epoch 37\n",
      "Processing epoch 38\n",
      "Processing epoch 39\n",
      "Processing epoch 40\n",
      "Processing epoch 41\n",
      "Processing epoch 42\n",
      "Processing epoch 43\n",
      "Processing epoch 44\n",
      "Processing epoch 45\n",
      "Processing epoch 46\n",
      "Processing epoch 47\n",
      "Processing epoch 48\n",
      "Processing epoch 49\n",
      "Processing epoch 0\n",
      "Processing epoch 1\n",
      "Processing epoch 2\n",
      "Processing epoch 3\n",
      "Processing epoch 4\n",
      "Processing epoch 5\n",
      "Processing epoch 6\n",
      "Processing epoch 7\n",
      "Processing epoch 8\n",
      "Processing epoch 9\n",
      "Processing epoch 10\n",
      "Processing epoch 11\n",
      "Processing epoch 12\n",
      "Processing epoch 13\n",
      "Processing epoch 14\n",
      "Processing epoch 15\n",
      "Processing epoch 16\n",
      "Processing epoch 17\n",
      "Processing epoch 18\n",
      "Processing epoch 19\n",
      "Processing epoch 20\n",
      "Processing epoch 21\n",
      "Processing epoch 22\n",
      "Processing epoch 23\n",
      "Processing epoch 24\n",
      "Processing epoch 25\n",
      "Processing epoch 26\n",
      "Processing epoch 27\n",
      "Processing epoch 28\n",
      "Processing epoch 29\n",
      "Processing epoch 30\n",
      "Processing epoch 31\n",
      "Processing epoch 32\n",
      "Processing epoch 33\n",
      "Processing epoch 34\n",
      "Processing epoch 35\n",
      "Processing epoch 36\n",
      "Processing epoch 37\n",
      "Processing epoch 38\n",
      "Processing epoch 39\n",
      "Processing epoch 40\n",
      "Processing epoch 41\n",
      "Processing epoch 42\n",
      "Processing epoch 43\n",
      "Processing epoch 44\n",
      "Processing epoch 45\n",
      "Processing epoch 46\n",
      "Processing epoch 47\n",
      "Processing epoch 48\n",
      "Processing epoch 49\n",
      "Processing epoch 0\n",
      "Processing epoch 1\n",
      "Processing epoch 2\n",
      "Processing epoch 3\n",
      "Processing epoch 4\n",
      "Processing epoch 5\n",
      "Processing epoch 6\n",
      "Processing epoch 7\n",
      "Processing epoch 8\n",
      "Processing epoch 9\n",
      "Processing epoch 10\n",
      "Processing epoch 11\n",
      "Processing epoch 12\n",
      "Processing epoch 13\n",
      "Processing epoch 14\n",
      "Processing epoch 15\n",
      "Processing epoch 16\n",
      "Processing epoch 17\n",
      "Processing epoch 18\n",
      "Processing epoch 19\n",
      "Processing epoch 20\n",
      "Processing epoch 21\n",
      "Processing epoch 22\n",
      "Processing epoch 23\n",
      "Processing epoch 24\n",
      "Processing epoch 25\n",
      "Processing epoch 26\n",
      "Processing epoch 27\n",
      "Processing epoch 28\n",
      "Processing epoch 29\n",
      "Processing epoch 30\n",
      "Processing epoch 31\n",
      "Processing epoch 32\n",
      "Processing epoch 33\n",
      "Processing epoch 34\n",
      "Processing epoch 35\n",
      "Processing epoch 36\n",
      "Processing epoch 37\n",
      "Processing epoch 38\n",
      "Processing epoch 39\n",
      "Processing epoch 40\n",
      "Processing epoch 41\n",
      "Processing epoch 42\n",
      "Processing epoch 43\n",
      "Processing epoch 44\n",
      "Processing epoch 45\n",
      "Processing epoch 46\n",
      "Processing epoch 47\n",
      "Processing epoch 48\n",
      "Processing epoch 49\n",
      "Processing epoch 0\n",
      "Processing epoch 1\n",
      "Processing epoch 2\n",
      "Processing epoch 3\n",
      "Processing epoch 4\n",
      "Processing epoch 5\n",
      "Processing epoch 6\n",
      "Processing epoch 7\n",
      "Processing epoch 8\n",
      "Processing epoch 9\n",
      "Processing epoch 10\n",
      "Processing epoch 11\n",
      "Processing epoch 12\n",
      "Processing epoch 13\n",
      "Processing epoch 14\n",
      "Processing epoch 15\n",
      "Processing epoch 16\n",
      "Processing epoch 17\n",
      "Processing epoch 18\n",
      "Processing epoch 19\n",
      "Processing epoch 20\n",
      "Processing epoch 21\n",
      "Processing epoch 22\n",
      "Processing epoch 23\n",
      "Processing epoch 24\n",
      "Processing epoch 25\n",
      "Processing epoch 26\n",
      "Processing epoch 27\n",
      "Processing epoch 28\n",
      "Processing epoch 29\n",
      "Processing epoch 30\n",
      "Processing epoch 31\n",
      "Processing epoch 32\n",
      "Processing epoch 33\n",
      "Processing epoch 34\n",
      "Processing epoch 35\n",
      "Processing epoch 36\n",
      "Processing epoch 37\n",
      "Processing epoch 38\n",
      "Processing epoch 39\n",
      "Processing epoch 40\n",
      "Processing epoch 41\n",
      "Processing epoch 42\n",
      "Processing epoch 43\n",
      "Processing epoch 44\n",
      "Processing epoch 45\n",
      "Processing epoch 46\n",
      "Processing epoch 47\n",
      "Processing epoch 48\n",
      "Processing epoch 49\n",
      "Processing epoch 0\n",
      "Processing epoch 1\n",
      "Processing epoch 2\n",
      "Processing epoch 3\n",
      "Processing epoch 4\n",
      "Processing epoch 5\n",
      "Processing epoch 6\n",
      "Processing epoch 7\n",
      "Processing epoch 8\n",
      "Processing epoch 9\n",
      "Processing epoch 10\n",
      "Processing epoch 11\n",
      "Processing epoch 12\n",
      "Processing epoch 13\n",
      "Processing epoch 14\n",
      "Processing epoch 15\n",
      "Processing epoch 16\n",
      "Processing epoch 17\n",
      "Processing epoch 18\n",
      "Processing epoch 19\n",
      "Processing epoch 20\n",
      "Processing epoch 21\n",
      "Processing epoch 22\n",
      "Processing epoch 23\n",
      "Processing epoch 24\n",
      "Processing epoch 25\n",
      "Processing epoch 26\n",
      "Processing epoch 27\n",
      "Processing epoch 28\n",
      "Processing epoch 29\n",
      "Processing epoch 30\n",
      "Processing epoch 31\n",
      "Processing epoch 32\n",
      "Processing epoch 33\n",
      "Processing epoch 34\n",
      "Processing epoch 35\n",
      "Processing epoch 36\n",
      "Processing epoch 37\n",
      "Processing epoch 38\n",
      "Processing epoch 39\n",
      "Processing epoch 40\n",
      "Processing epoch 41\n",
      "Processing epoch 42\n",
      "Processing epoch 43\n",
      "Processing epoch 44\n",
      "Processing epoch 45\n",
      "Processing epoch 46\n",
      "Processing epoch 47\n",
      "Processing epoch 48\n",
      "Processing epoch 49\n",
      "Processing epoch 0\n",
      "Processing epoch 1\n",
      "Processing epoch 2\n",
      "Processing epoch 3\n",
      "Processing epoch 4\n",
      "Processing epoch 5\n",
      "Processing epoch 6\n",
      "Processing epoch 7\n",
      "Processing epoch 8\n",
      "Processing epoch 9\n",
      "Processing epoch 10\n",
      "Processing epoch 11\n",
      "Processing epoch 12\n",
      "Processing epoch 13\n",
      "Processing epoch 14\n",
      "Processing epoch 15\n",
      "Processing epoch 16\n",
      "Processing epoch 17\n",
      "Processing epoch 18\n",
      "Processing epoch 19\n",
      "Processing epoch 20\n",
      "Processing epoch 21\n",
      "Processing epoch 22\n",
      "Processing epoch 23\n",
      "Processing epoch 24\n",
      "Processing epoch 25\n",
      "Processing epoch 26\n",
      "Processing epoch 27\n",
      "Processing epoch 28\n",
      "Processing epoch 29\n",
      "Processing epoch 30\n",
      "Processing epoch 31\n",
      "Processing epoch 32\n",
      "Processing epoch 33\n",
      "Processing epoch 34\n",
      "Processing epoch 35\n",
      "Processing epoch 36\n",
      "Processing epoch 37\n",
      "Processing epoch 38\n",
      "Processing epoch 39\n",
      "Processing epoch 40\n",
      "Processing epoch 41\n",
      "Processing epoch 42\n",
      "Processing epoch 43\n",
      "Processing epoch 44\n",
      "Processing epoch 45\n",
      "Processing epoch 46\n",
      "Processing epoch 47\n",
      "Processing epoch 48\n",
      "Processing epoch 49\n",
      "Processing epoch 0\n",
      "Processing epoch 1\n",
      "Processing epoch 2\n",
      "Processing epoch 3\n",
      "Processing epoch 4\n",
      "Processing epoch 5\n",
      "Processing epoch 6\n",
      "Processing epoch 7\n",
      "Processing epoch 8\n",
      "Processing epoch 9\n",
      "Processing epoch 10\n",
      "Processing epoch 11\n",
      "Processing epoch 12\n",
      "Processing epoch 13\n",
      "Processing epoch 14\n",
      "Processing epoch 15\n",
      "Processing epoch 16\n",
      "Processing epoch 17\n",
      "Processing epoch 18\n",
      "Processing epoch 19\n",
      "Processing epoch 20\n",
      "Processing epoch 21\n",
      "Processing epoch 22\n",
      "Processing epoch 23\n",
      "Processing epoch 24\n",
      "Processing epoch 25\n",
      "Processing epoch 26\n",
      "Processing epoch 27\n",
      "Processing epoch 28\n",
      "Processing epoch 29\n",
      "Processing epoch 30\n",
      "Processing epoch 31\n",
      "Processing epoch 32\n",
      "Processing epoch 33\n",
      "Processing epoch 34\n",
      "Processing epoch 35\n",
      "Processing epoch 36\n",
      "Processing epoch 37\n",
      "Processing epoch 38\n",
      "Processing epoch 39\n",
      "Processing epoch 40\n",
      "Processing epoch 41\n",
      "Processing epoch 42\n",
      "Processing epoch 43\n",
      "Processing epoch 44\n",
      "Processing epoch 45\n",
      "Processing epoch 46\n",
      "Processing epoch 47\n",
      "Processing epoch 48\n",
      "Processing epoch 49\n",
      "Evaluating RMSE of algorithm NMF on 10 split(s).\n",
      "\n",
      "                  Fold 1  Fold 2  Fold 3  Fold 4  Fold 5  Fold 6  Fold 7  Fold 8  Fold 9  Fold 10 Mean    Std     \n",
      "RMSE (testset)    2.4621  2.4485  2.4374  2.4497  2.4334  2.4547  2.4327  2.4557  2.4589  2.4375  2.4471  0.0104  \n",
      "Fit time          43.40   43.13   40.84   40.95   41.70   41.71   41.68   41.27   41.59   41.42   41.77   0.80    \n",
      "Test time         0.22    0.21    0.21    0.21    0.21    0.21    0.21    0.20    0.21    0.21    0.21    0.00    \n"
     ]
    },
    {
     "data": {
      "text/plain": [
       "{'test_rmse': array([2.46206984, 2.44853017, 2.43737914, 2.44974258, 2.43340318,\n",
       "        2.45466453, 2.43269762, 2.45570293, 2.45888039, 2.4374606 ]),\n",
       " 'fit_time': (43.39542102813721,\n",
       "  43.12804985046387,\n",
       "  40.843688011169434,\n",
       "  40.94580578804016,\n",
       "  41.698951959609985,\n",
       "  41.70793390274048,\n",
       "  41.68423295021057,\n",
       "  41.267239809036255,\n",
       "  41.59380006790161,\n",
       "  41.41809296607971),\n",
       " 'test_time': (0.21793365478515625,\n",
       "  0.2062840461730957,\n",
       "  0.2077162265777588,\n",
       "  0.20714402198791504,\n",
       "  0.20924782752990723,\n",
       "  0.20594096183776855,\n",
       "  0.21032500267028809,\n",
       "  0.20397686958312988,\n",
       "  0.2081620693206787,\n",
       "  0.2109079360961914)}"
      ]
     },
     "execution_count": 96,
     "metadata": {},
     "output_type": "execute_result"
    }
   ],
   "source": [
    "cross_validate(NMF(verbose=True), data, measures=['RMSE'], cv=10, verbose=True)"
   ]
  },
  {
   "cell_type": "markdown",
   "metadata": {},
   "source": [
    "### Visualize Results"
   ]
  },
  {
   "cell_type": "code",
   "execution_count": 8,
   "metadata": {
    "collapsed": false
   },
   "outputs": [
    {
     "data": {
      "image/png": "[encoded data removed]",
      "text/plain": [
       "<Figure size 432x288 with 1 Axes>"
      ]
     },
     "metadata": {
      "needs_background": "light"
     },
     "output_type": "display_data"
    }
   ],
   "source": [
    "import matplotlib.pyplot as plt\n",
    "plt.plot([1.64035871, 1.6516192 , 1.65646442, 1.65174803, 1.64387064,\n",
    "        1.64288313, 1.64099343, 1.64838811, 1.65657639, 1.65055562], color='red') # Baseline no norm\n",
    "plt.plot([1.6351393 , 1.63885243, 1.64715879, 1.64141364, 1.65178808,\n",
    "        1.6548407 , 1.6511768 , 1.64851284, 1.64350086, 1.63035403], color='blue') # SVD no normalization\n",
    "plt.plot([1.83162642, 1.83842444, 1.83894032, 1.84348497, 1.84681301,\n",
    "        1.84757849, 1.83108851, 1.86333115, 1.84969944, 1.83280018], color='green') # mean KNN with MSD sim metric\n",
    "plt.plot([1.84980278, 1.85468974, 1.83346668, 1.83132629, 1.83718233,\n",
    "        1.82342555, 1.84151089, 1.83262617, 1.85301496, 1.82746491], color='pink') # mean KNN with cosine sim metric\n",
    "plt.plot([2.46206984, 2.44853017, 2.43737914, 2.44974258, 2.43340318,\n",
    "        2.45466453, 2.43269762, 2.45570293, 2.45888039, 2.4374606 ], color='brown') # NMF factorization\n",
    "plt.plot([1.6573, 1.6612, 1.6632, 1.6573, 1.6612, 1.6632, 1.6573, 1.6612, 1.6632, 1.6573], color='orange') # SVDpp\n",
    "plt.show()"
   ]
  },
  {
   "cell_type": "markdown",
   "metadata": {},
   "source": [
    "### Evaluation\n",
    "1. 10-fold SVD, no normalization =\n",
    "  - [1.6351393 , 1.63885243, 1.64715879, 1.64141364, 1.65178808, 1.6548407 , 1.6511768 , 1.64851284, 1.64350086, 1.63035403]\n",
    "2. 10-fold Baseline, no normalization =\n",
    "  - [1.64035871, 1.6516192 , 1.65646442, 1.65174803, 1.64387064, 1.64288313, 1.64099343, 1.64838811, 1.65657639, 1.65055562]\n",
    "3. 10-fold KNN with mean rating normalization and MSD similarity =\n",
    "  - [1.83162642, 1.83842444, 1.83894032, 1.84348497, 1.84681301, 1.84757849, 1.83108851, 1.86333115, 1.84969944, 1.83280018]"
   ]
  },
  {
   "cell_type": "markdown",
   "metadata": {},
   "source": [
    "### Grid Search on the best model from above\n",
    "- RMSE = 1.6501662923469678, params = {'n_epochs': 100, 'n_factors': 250}\n",
    "- Matrix factorization does better with less latent factors, more epochs did not affect performance much"
   ]
  },
  {
   "cell_type": "code",
   "execution_count": null,
   "metadata": {
    "collapsed": true
   },
   "outputs": [],
   "source": [
    "from surprise.model_selection import GridSearchCV\n",
    "\n",
    "param_grid = {'n_epochs': [50, 100], 'n_factors': [250, 500, 1000]}\n",
    "gs = GridSearchCV(SVD, param_grid, measures=['rmse', 'mae'], cv=5)\n",
    "\n",
    "gs.fit(data)\n",
    "\n",
    "# best RMSE score\n",
    "print(gs.best_score['rmse'])\n",
    "\n",
    "# combination of parameters that gave the best RMSE score\n",
    "print(gs.best_params['rmse'])"
   ]
  },
  {
   "cell_type": "markdown",
   "metadata": {},
   "source": [
    "### Make predictions"
   ]
  },
  {
   "cell_type": "code",
   "execution_count": 119,
   "metadata": {
    "collapsed": false,
    "scrolled": true
   },
   "outputs": [
    {
     "name": "stdout",
     "output_type": "stream",
     "text": [
      " processing epoch 0\n",
      " processing epoch 1\n",
      " processing epoch 2\n",
      " processing epoch 3\n",
      " processing epoch 4\n",
      " processing epoch 5\n",
      " processing epoch 6\n",
      " processing epoch 7\n",
      " processing epoch 8\n",
      " processing epoch 9\n",
      " processing epoch 10\n",
      " processing epoch 11\n",
      " processing epoch 12\n",
      " processing epoch 13\n",
      " processing epoch 14\n",
      " processing epoch 15\n",
      " processing epoch 16\n",
      " processing epoch 17\n",
      " processing epoch 18\n",
      " processing epoch 19\n"
     ]
    },
    {
     "data": {
      "text/plain": [
       "<surprise.prediction_algorithms.matrix_factorization.SVDpp at 0x144821c10>"
      ]
     },
     "execution_count": 119,
     "metadata": {},
     "output_type": "execute_result"
    }
   ],
   "source": [
    "algo = SVDpp(verbose=True)\n",
    "algo.fit(data.build_full_trainset())"
   ]
  },
  {
   "cell_type": "code",
   "execution_count": 89,
   "metadata": {
    "collapsed": false
   },
   "outputs": [],
   "source": [
    "preds = []\n",
    "\n",
    "for rating_tuple in test_ratings.values:\n",
    "    user_id = rating_tuple[0]\n",
    "    book_id = rating_tuple[1]\n",
    "    sample_key = \"{0}-{1}\".format(user_id, book_id)\n",
    "    pred = algo.predict(user_id, book_id, verbose=False)\n",
    "\n",
    "    preds.append({'User_Id-Book_Id': sample_key, 'Rating': pred[3]})"
   ]
  },
  {
   "cell_type": "code",
   "execution_count": 90,
   "metadata": {
    "collapsed": false
   },
   "outputs": [
    {
     "data": {
      "text/html": [
       "<div>\n",
       "<style scoped>\n",
       "    .dataframe tbody tr th:only-of-type {\n",
       "        vertical-align: middle;\n",
       "    }\n",
       "\n",
       "    .dataframe tbody tr th {\n",
       "        vertical-align: top;\n",
       "    }\n",
       "\n",
       "    .dataframe thead th {\n",
       "        text-align: right;\n",
       "    }\n",
       "</style>\n",
       "<table border=\"1\" class=\"dataframe\">\n",
       "  <thead>\n",
       "    <tr style=\"text-align: right;\">\n",
       "      <th></th>\n",
       "      <th>User_Id-Book_Id</th>\n",
       "      <th>Rating</th>\n",
       "    </tr>\n",
       "  </thead>\n",
       "  <tbody>\n",
       "    <tr>\n",
       "      <th>0</th>\n",
       "      <td>242-343676</td>\n",
       "      <td>8.126303</td>\n",
       "    </tr>\n",
       "    <tr>\n",
       "      <th>1</th>\n",
       "      <td>254-58191</td>\n",
       "      <td>7.474422</td>\n",
       "    </tr>\n",
       "    <tr>\n",
       "      <th>2</th>\n",
       "      <td>503-76983</td>\n",
       "      <td>8.084257</td>\n",
       "    </tr>\n",
       "    <tr>\n",
       "      <th>3</th>\n",
       "      <td>626-340144</td>\n",
       "      <td>7.836262</td>\n",
       "    </tr>\n",
       "    <tr>\n",
       "      <th>4</th>\n",
       "      <td>628-261446</td>\n",
       "      <td>7.377793</td>\n",
       "    </tr>\n",
       "  </tbody>\n",
       "</table>\n",
       "</div>"
      ],
      "text/plain": [
       "  User_Id-Book_Id    Rating\n",
       "0      242-343676  8.126303\n",
       "1       254-58191  7.474422\n",
       "2       503-76983  8.084257\n",
       "3      626-340144  7.836262\n",
       "4      628-261446  7.377793"
      ]
     },
     "execution_count": 90,
     "metadata": {},
     "output_type": "execute_result"
    }
   ],
   "source": [
    "preds_df = pd.DataFrame(preds)\n",
    "preds_df.head()"
   ]
  },
  {
   "cell_type": "code",
   "execution_count": 91,
   "metadata": {
    "collapsed": false
   },
   "outputs": [
    {
     "data": {
      "text/plain": [
       "count    100000.000000\n",
       "mean          7.665800\n",
       "std           0.646609\n",
       "min           3.500718\n",
       "25%           7.386688\n",
       "50%           7.603539\n",
       "75%           7.953138\n",
       "max          10.000000\n",
       "Name: Rating, dtype: float64"
      ]
     },
     "execution_count": 91,
     "metadata": {},
     "output_type": "execute_result"
    }
   ],
   "source": [
    "preds_df['Rating'].describe()"
   ]
  },
  {
   "cell_type": "code",
   "execution_count": 92,
   "metadata": {
    "collapsed": false
   },
   "outputs": [
    {
     "data": {
      "text/plain": [
       "count    333627.000000\n",
       "mean          7.603539\n",
       "std           1.842235\n",
       "min           1.000000\n",
       "25%           7.000000\n",
       "50%           8.000000\n",
       "75%           9.000000\n",
       "max          10.000000\n",
       "Name: Rating, dtype: float64"
      ]
     },
     "execution_count": 92,
     "metadata": {},
     "output_type": "execute_result"
    }
   ],
   "source": [
    "ratings['Rating'].describe()"
   ]
  },
  {
   "cell_type": "code",
   "execution_count": 93,
   "metadata": {
    "collapsed": false
   },
   "outputs": [
    {
     "name": "stdout",
     "output_type": "stream",
     "text": [
      "100000\n"
     ]
    }
   ],
   "source": [
    "print (len(preds_df))"
   ]
  },
  {
   "cell_type": "code",
   "execution_count": 94,
   "metadata": {
    "collapsed": false
   },
   "outputs": [],
   "source": [
    "preds_df.to_csv('solution_baseline.csv', index=False)"
   ]
  },
  {
   "cell_type": "markdown",
   "metadata": {},
   "source": [
    "### Explore Book metadata"
   ]
  },
  {
   "cell_type": "code",
   "execution_count": 24,
   "metadata": {
    "collapsed": true
   },
   "outputs": [],
   "source": [
    "metadata = pd.read_csv('./data/Book_Info.csv')[['Title', 'Publication_Year', 'Image_L_URL', 'Author']]\n",
    "metadata['Publication_Year'] = metadata['Publication_Year'].astype(int)"
   ]
  },
  {
   "cell_type": "code",
   "execution_count": 25,
   "metadata": {
    "collapsed": false
   },
   "outputs": [
    {
     "data": {
      "text/html": [
       "<div>\n",
       "<style scoped>\n",
       "    .dataframe tbody tr th:only-of-type {\n",
       "        vertical-align: middle;\n",
       "    }\n",
       "\n",
       "    .dataframe tbody tr th {\n",
       "        vertical-align: top;\n",
       "    }\n",
       "\n",
       "    .dataframe thead th {\n",
       "        text-align: right;\n",
       "    }\n",
       "</style>\n",
       "<table border=\"1\" class=\"dataframe\">\n",
       "  <thead>\n",
       "    <tr style=\"text-align: right;\">\n",
       "      <th></th>\n",
       "      <th>Title</th>\n",
       "      <th>Publication_Year</th>\n",
       "      <th>Image_L_URL</th>\n",
       "      <th>Author</th>\n",
       "    </tr>\n",
       "  </thead>\n",
       "  <tbody>\n",
       "    <tr>\n",
       "      <th>0</th>\n",
       "      <td>Zombies</td>\n",
       "      <td>2000</td>\n",
       "      <td>http://images.amazon.com/images/P/2264026545.0...</td>\n",
       "      <td>Bret Easton Ellis</td>\n",
       "    </tr>\n",
       "    <tr>\n",
       "      <th>1</th>\n",
       "      <td>The Wicked Priest: An Allegory in Two Acts</td>\n",
       "      <td>2000</td>\n",
       "      <td>http://images.amazon.com/images/P/1587214768.0...</td>\n",
       "      <td>Bob Levis</td>\n",
       "    </tr>\n",
       "    <tr>\n",
       "      <th>2</th>\n",
       "      <td>The Wondering Life</td>\n",
       "      <td>2003</td>\n",
       "      <td>http://images.amazon.com/images/P/1414025696.0...</td>\n",
       "      <td>Colleen Cherwinski</td>\n",
       "    </tr>\n",
       "    <tr>\n",
       "      <th>3</th>\n",
       "      <td>Power Health - Back to Basics</td>\n",
       "      <td>2003</td>\n",
       "      <td>http://images.amazon.com/images/P/1410775488.0...</td>\n",
       "      <td>Dr Martin P. Rutherford</td>\n",
       "    </tr>\n",
       "    <tr>\n",
       "      <th>4</th>\n",
       "      <td>See a Grown Man Cry, Now Watch Him Die</td>\n",
       "      <td>1997</td>\n",
       "      <td>http://images.amazon.com/images/P/1880985373.0...</td>\n",
       "      <td>Henry Rollins</td>\n",
       "    </tr>\n",
       "  </tbody>\n",
       "</table>\n",
       "</div>"
      ],
      "text/plain": [
       "                                        Title  Publication_Year  \\\n",
       "0                                     Zombies              2000   \n",
       "1  The Wicked Priest: An Allegory in Two Acts              2000   \n",
       "2                          The Wondering Life              2003   \n",
       "3               Power Health - Back to Basics              2003   \n",
       "4      See a Grown Man Cry, Now Watch Him Die              1997   \n",
       "\n",
       "                                         Image_L_URL                   Author  \n",
       "0  http://images.amazon.com/images/P/2264026545.0...        Bret Easton Ellis  \n",
       "1  http://images.amazon.com/images/P/1587214768.0...                Bob Levis  \n",
       "2  http://images.amazon.com/images/P/1414025696.0...       Colleen Cherwinski  \n",
       "3  http://images.amazon.com/images/P/1410775488.0...  Dr Martin P. Rutherford  \n",
       "4  http://images.amazon.com/images/P/1880985373.0...            Henry Rollins  "
      ]
     },
     "execution_count": 25,
     "metadata": {},
     "output_type": "execute_result"
    }
   ],
   "source": [
    "metadata.head()"
   ]
  },
  {
   "cell_type": "markdown",
   "metadata": {},
   "source": [
    "### Filter invalid years"
   ]
  },
  {
   "cell_type": "code",
   "execution_count": 51,
   "metadata": {
    "collapsed": false
   },
   "outputs": [
    {
     "name": "stdout",
     "output_type": "stream",
     "text": [
      "full size 266743\n",
      "after filter >= 1900 266743\n",
      "after filter <= 2021 266743\n"
     ]
    }
   ],
   "source": [
    "print('full size', len(metadata))\n",
    "metadata = metadata[metadata['Publication_Century'] >= 19]\n",
    "print('after filter >= 1900', len(metadata))\n",
    "metadata = metadata[metadata['Publication_Century'] <= 20]\n",
    "print('after filter <= 2021', len(metadata))"
   ]
  },
  {
   "cell_type": "code",
   "execution_count": 27,
   "metadata": {
    "collapsed": false
   },
   "outputs": [],
   "source": [
    "metadata['Publication_Decade'] = ((metadata['Publication_Year'] % 100) // 10) * 10\n",
    "metadata['Publication_Century'] = metadata['Publication_Year'] // 100\n",
    "metadata = metadata.drop(['Publication_Year'], axis=1)"
   ]
  },
  {
   "cell_type": "code",
   "execution_count": 45,
   "metadata": {
    "collapsed": false
   },
   "outputs": [
    {
     "data": {
      "text/html": [
       "<div>\n",
       "<style scoped>\n",
       "    .dataframe tbody tr th:only-of-type {\n",
       "        vertical-align: middle;\n",
       "    }\n",
       "\n",
       "    .dataframe tbody tr th {\n",
       "        vertical-align: top;\n",
       "    }\n",
       "\n",
       "    .dataframe thead th {\n",
       "        text-align: right;\n",
       "    }\n",
       "</style>\n",
       "<table border=\"1\" class=\"dataframe\">\n",
       "  <thead>\n",
       "    <tr style=\"text-align: right;\">\n",
       "      <th></th>\n",
       "      <th>Image_L_URL</th>\n",
       "      <th>Author</th>\n",
       "      <th>Publication_Decade</th>\n",
       "      <th>Publication_Century</th>\n",
       "      <th>nouns</th>\n",
       "      <th>verbs</th>\n",
       "    </tr>\n",
       "  </thead>\n",
       "  <tbody>\n",
       "    <tr>\n",
       "      <th>0</th>\n",
       "      <td>http://images.amazon.com/images/P/2264026545.0...</td>\n",
       "      <td>Bret Easton Ellis</td>\n",
       "      <td>0</td>\n",
       "      <td>20</td>\n",
       "      <td>zombies</td>\n",
       "      <td></td>\n",
       "    </tr>\n",
       "    <tr>\n",
       "      <th>1</th>\n",
       "      <td>http://images.amazon.com/images/P/1587214768.0...</td>\n",
       "      <td>Bob Levis</td>\n",
       "      <td>0</td>\n",
       "      <td>20</td>\n",
       "      <td>priest allegory acts</td>\n",
       "      <td></td>\n",
       "    </tr>\n",
       "    <tr>\n",
       "      <th>2</th>\n",
       "      <td>http://images.amazon.com/images/P/1414025696.0...</td>\n",
       "      <td>Colleen Cherwinski</td>\n",
       "      <td>0</td>\n",
       "      <td>20</td>\n",
       "      <td>life</td>\n",
       "      <td></td>\n",
       "    </tr>\n",
       "    <tr>\n",
       "      <th>3</th>\n",
       "      <td>http://images.amazon.com/images/P/1410775488.0...</td>\n",
       "      <td>Dr Martin P. Rutherford</td>\n",
       "      <td>0</td>\n",
       "      <td>20</td>\n",
       "      <td>power health basics</td>\n",
       "      <td></td>\n",
       "    </tr>\n",
       "    <tr>\n",
       "      <th>4</th>\n",
       "      <td>http://images.amazon.com/images/P/1880985373.0...</td>\n",
       "      <td>Henry Rollins</td>\n",
       "      <td>90</td>\n",
       "      <td>19</td>\n",
       "      <td>man cry</td>\n",
       "      <td>see watch die</td>\n",
       "    </tr>\n",
       "  </tbody>\n",
       "</table>\n",
       "</div>"
      ],
      "text/plain": [
       "                                         Image_L_URL                   Author  \\\n",
       "0  http://images.amazon.com/images/P/2264026545.0...        Bret Easton Ellis   \n",
       "1  http://images.amazon.com/images/P/1587214768.0...                Bob Levis   \n",
       "2  http://images.amazon.com/images/P/1414025696.0...       Colleen Cherwinski   \n",
       "3  http://images.amazon.com/images/P/1410775488.0...  Dr Martin P. Rutherford   \n",
       "4  http://images.amazon.com/images/P/1880985373.0...            Henry Rollins   \n",
       "\n",
       "   Publication_Decade  Publication_Century                 nouns  \\\n",
       "0                   0                   20               zombies   \n",
       "1                   0                   20  priest allegory acts   \n",
       "2                   0                   20                  life   \n",
       "3                   0                   20   power health basics   \n",
       "4                  90                   19               man cry   \n",
       "\n",
       "           verbs  \n",
       "0                 \n",
       "1                 \n",
       "2                 \n",
       "3                 \n",
       "4  see watch die  "
      ]
     },
     "execution_count": 45,
     "metadata": {},
     "output_type": "execute_result"
    }
   ],
   "source": [
    "metadata.head()"
   ]
  },
  {
   "cell_type": "markdown",
   "metadata": {},
   "source": [
    "### Get parts of speech"
   ]
  },
  {
   "cell_type": "code",
   "execution_count": 29,
   "metadata": {
    "collapsed": false
   },
   "outputs": [
    {
     "name": "stderr",
     "output_type": "stream",
     "text": [
      "[nltk_data] Downloading package averaged_perceptron_tagger to\n",
      "[nltk_data]     /Users/soniamannan/nltk_data...\n",
      "[nltk_data]   Package averaged_perceptron_tagger is already up-to-\n",
      "[nltk_data]       date!\n"
     ]
    }
   ],
   "source": [
    "import nltk\n",
    "nltk.download('averaged_perceptron_tagger')\n",
    "from nltk.tokenize import word_tokenize\n",
    "from nltk.tag import pos_tag\n",
    "\n",
    "def get_pos(sentences):\n",
    "    all_nouns = []\n",
    "    all_verbs = []\n",
    "    \n",
    "    for sent in sentences:\n",
    "        sent = nltk.word_tokenize(sent.lower())\n",
    "        nouns = ''\n",
    "        verbs = ''\n",
    "\n",
    "        for pos in nltk.pos_tag(sent):\n",
    "\n",
    "            if pos[-1] == 'NN' or pos[-1] == 'NNS':\n",
    "                nouns += pos[0]\n",
    "                nouns += ' '\n",
    "\n",
    "            if pos[-1] == 'VBP' or pos[-1] == 'VB':\n",
    "                verbs += pos[0]\n",
    "                verbs += ' '\n",
    "\n",
    "        all_nouns.append(nouns.strip())\n",
    "        all_verbs.append(verbs.strip())\n",
    "    \n",
    "    return all_nouns, all_verbs\n",
    "\n",
    "nouns, verbs = get_pos(metadata['Title'])"
   ]
  },
  {
   "cell_type": "code",
   "execution_count": 42,
   "metadata": {
    "collapsed": false
   },
   "outputs": [
    {
     "data": {
      "text/html": [
       "<div>\n",
       "<style scoped>\n",
       "    .dataframe tbody tr th:only-of-type {\n",
       "        vertical-align: middle;\n",
       "    }\n",
       "\n",
       "    .dataframe tbody tr th {\n",
       "        vertical-align: top;\n",
       "    }\n",
       "\n",
       "    .dataframe thead th {\n",
       "        text-align: right;\n",
       "    }\n",
       "</style>\n",
       "<table border=\"1\" class=\"dataframe\">\n",
       "  <thead>\n",
       "    <tr style=\"text-align: right;\">\n",
       "      <th></th>\n",
       "      <th>Image_L_URL</th>\n",
       "      <th>Author</th>\n",
       "      <th>Publication_Decade</th>\n",
       "      <th>Publication_Century</th>\n",
       "      <th>nouns</th>\n",
       "      <th>verbs</th>\n",
       "    </tr>\n",
       "  </thead>\n",
       "  <tbody>\n",
       "    <tr>\n",
       "      <th>0</th>\n",
       "      <td>http://images.amazon.com/images/P/2264026545.0...</td>\n",
       "      <td>Bret Easton Ellis</td>\n",
       "      <td>0</td>\n",
       "      <td>20</td>\n",
       "      <td>zombies</td>\n",
       "      <td></td>\n",
       "    </tr>\n",
       "    <tr>\n",
       "      <th>1</th>\n",
       "      <td>http://images.amazon.com/images/P/1587214768.0...</td>\n",
       "      <td>Bob Levis</td>\n",
       "      <td>0</td>\n",
       "      <td>20</td>\n",
       "      <td>priest allegory acts</td>\n",
       "      <td></td>\n",
       "    </tr>\n",
       "    <tr>\n",
       "      <th>2</th>\n",
       "      <td>http://images.amazon.com/images/P/1414025696.0...</td>\n",
       "      <td>Colleen Cherwinski</td>\n",
       "      <td>0</td>\n",
       "      <td>20</td>\n",
       "      <td>life</td>\n",
       "      <td></td>\n",
       "    </tr>\n",
       "    <tr>\n",
       "      <th>3</th>\n",
       "      <td>http://images.amazon.com/images/P/1410775488.0...</td>\n",
       "      <td>Dr Martin P. Rutherford</td>\n",
       "      <td>0</td>\n",
       "      <td>20</td>\n",
       "      <td>power health basics</td>\n",
       "      <td></td>\n",
       "    </tr>\n",
       "    <tr>\n",
       "      <th>4</th>\n",
       "      <td>http://images.amazon.com/images/P/1880985373.0...</td>\n",
       "      <td>Henry Rollins</td>\n",
       "      <td>90</td>\n",
       "      <td>19</td>\n",
       "      <td>man cry</td>\n",
       "      <td>see watch die</td>\n",
       "    </tr>\n",
       "  </tbody>\n",
       "</table>\n",
       "</div>"
      ],
      "text/plain": [
       "                                         Image_L_URL                   Author  \\\n",
       "0  http://images.amazon.com/images/P/2264026545.0...        Bret Easton Ellis   \n",
       "1  http://images.amazon.com/images/P/1587214768.0...                Bob Levis   \n",
       "2  http://images.amazon.com/images/P/1414025696.0...       Colleen Cherwinski   \n",
       "3  http://images.amazon.com/images/P/1410775488.0...  Dr Martin P. Rutherford   \n",
       "4  http://images.amazon.com/images/P/1880985373.0...            Henry Rollins   \n",
       "\n",
       "   Publication_Decade  Publication_Century                 nouns  \\\n",
       "0                   0                   20               zombies   \n",
       "1                   0                   20  priest allegory acts   \n",
       "2                   0                   20                  life   \n",
       "3                   0                   20   power health basics   \n",
       "4                  90                   19               man cry   \n",
       "\n",
       "           verbs  \n",
       "0                 \n",
       "1                 \n",
       "2                 \n",
       "3                 \n",
       "4  see watch die  "
      ]
     },
     "execution_count": 42,
     "metadata": {},
     "output_type": "execute_result"
    }
   ],
   "source": [
    "metadata['nouns'] = nouns\n",
    "metadata['verbs'] = verbs\n",
    "metadata = metadata.drop(['Title'], axis=1)\n",
    "metadata.head()"
   ]
  },
  {
   "cell_type": "markdown",
   "metadata": {},
   "source": [
    "### One hot encode text"
   ]
  },
  {
   "cell_type": "code",
   "execution_count": 63,
   "metadata": {
    "collapsed": false
   },
   "outputs": [
    {
     "data": {
      "text/html": [
       "<div>\n",
       "<style scoped>\n",
       "    .dataframe tbody tr th:only-of-type {\n",
       "        vertical-align: middle;\n",
       "    }\n",
       "\n",
       "    .dataframe tbody tr th {\n",
       "        vertical-align: top;\n",
       "    }\n",
       "\n",
       "    .dataframe thead th {\n",
       "        text-align: right;\n",
       "    }\n",
       "</style>\n",
       "<table border=\"1\" class=\"dataframe\">\n",
       "  <thead>\n",
       "    <tr style=\"text-align: right;\">\n",
       "      <th></th>\n",
       "      <th>Publication_Decade</th>\n",
       "      <th>Publication_Century</th>\n",
       "      <th>nouns</th>\n",
       "      <th>verbs</th>\n",
       "    </tr>\n",
       "  </thead>\n",
       "  <tbody>\n",
       "    <tr>\n",
       "      <th>0</th>\n",
       "      <td>0</td>\n",
       "      <td>20</td>\n",
       "      <td>zombies</td>\n",
       "      <td></td>\n",
       "    </tr>\n",
       "    <tr>\n",
       "      <th>1</th>\n",
       "      <td>0</td>\n",
       "      <td>20</td>\n",
       "      <td>priest allegory acts</td>\n",
       "      <td></td>\n",
       "    </tr>\n",
       "    <tr>\n",
       "      <th>2</th>\n",
       "      <td>0</td>\n",
       "      <td>20</td>\n",
       "      <td>life</td>\n",
       "      <td></td>\n",
       "    </tr>\n",
       "    <tr>\n",
       "      <th>3</th>\n",
       "      <td>0</td>\n",
       "      <td>20</td>\n",
       "      <td>power health basics</td>\n",
       "      <td></td>\n",
       "    </tr>\n",
       "    <tr>\n",
       "      <th>4</th>\n",
       "      <td>90</td>\n",
       "      <td>19</td>\n",
       "      <td>man cry</td>\n",
       "      <td>see watch die</td>\n",
       "    </tr>\n",
       "  </tbody>\n",
       "</table>\n",
       "</div>"
      ],
      "text/plain": [
       "   Publication_Decade  Publication_Century                 nouns  \\\n",
       "0                   0                   20               zombies   \n",
       "1                   0                   20  priest allegory acts   \n",
       "2                   0                   20                  life   \n",
       "3                   0                   20   power health basics   \n",
       "4                  90                   19               man cry   \n",
       "\n",
       "           verbs  \n",
       "0                 \n",
       "1                 \n",
       "2                 \n",
       "3                 \n",
       "4  see watch die  "
      ]
     },
     "execution_count": 63,
     "metadata": {},
     "output_type": "execute_result"
    }
   ],
   "source": [
    "features = metadata[['Publication_Decade', 'Publication_Century', 'nouns', 'verbs']]\n",
    "features.head()"
   ]
  },
  {
   "cell_type": "code",
   "execution_count": null,
   "metadata": {
    "collapsed": false
   },
   "outputs": [],
   "source": [
    "enc = OneHotEncoder(handle_unknown='ignore')\n",
    "pd.concat([metadata, pd.DataFrame(enc.fit_transform(metadata[['nouns']]).toarray()) ])"
   ]
  },
  {
   "cell_type": "code",
   "execution_count": 81,
   "metadata": {
    "collapsed": false
   },
   "outputs": [],
   "source": [
    "meta_ratings = pd.concat([metadata.rename(columns={\"BOOK_ID\": \"Book_Id\"}), ratings], join=\"inner\", axis=1)"
   ]
  },
  {
   "cell_type": "markdown",
   "metadata": {},
   "source": [
    "- Year to decade\n",
    "- Named entities from the title\n",
    "- Genre (based on title, image, and author?)\n",
    "- Sentiment of the title\n",
    "- Publisher name"
   ]
  },
  {
   "cell_type": "code",
   "execution_count": 38,
   "metadata": {
    "collapsed": false
   },
   "outputs": [],
   "source": [
    "def get_vocab_size(words):\n",
    "    import string\n",
    "    vocab = set()\n",
    "    max_word_len = 0\n",
    "    \n",
    "    for title in words:\n",
    "        for word in title.split():\n",
    "            new_word = \"\".join(l for l in word.lower() if l not in string.punctuation)\n",
    "            vocab.add(new_word)\n",
    "            max_word_len = max(len(new_word), max_word_len)\n",
    "    \n",
    "    return len(vocab), max_word_len"
   ]
  },
  {
   "cell_type": "code",
   "execution_count": 106,
   "metadata": {
    "collapsed": false
   },
   "outputs": [
    {
     "name": "stdout",
     "output_type": "stream",
     "text": [
      "89573 40\n"
     ]
    }
   ],
   "source": [
    "len_vocab, max_word_len = get_vocab_size(meta_ratings['Title'])\n",
    "print (len_vocab, max_word_len)"
   ]
  },
  {
   "cell_type": "code",
   "execution_count": 40,
   "metadata": {
    "collapsed": false
   },
   "outputs": [
    {
     "name": "stdout",
     "output_type": "stream",
     "text": [
      "65676 40\n"
     ]
    }
   ],
   "source": [
    "len_vocab, max_word_len = get_vocab_size(metadata['nouns'])\n",
    "print (len_vocab, max_word_len)"
   ]
  },
  {
   "cell_type": "code",
   "execution_count": 41,
   "metadata": {
    "collapsed": false
   },
   "outputs": [
    {
     "name": "stdout",
     "output_type": "stream",
     "text": [
      "6842 22\n"
     ]
    }
   ],
   "source": [
    "len_vocab, max_word_len = get_vocab_size(metadata['verbs'])\n",
    "print (len_vocab, max_word_len)"
   ]
  },
  {
   "cell_type": "code",
   "execution_count": null,
   "metadata": {
    "collapsed": true
   },
   "outputs": [],
   "source": []
  }
 ],
 "metadata": {
  "anaconda-cloud": {},
  "kernelspec": {
   "display_name": "Python 3 (ipykernel)",
   "language": "python",
   "name": "python3"
  },
  "language_info": {
   "codemirror_mode": {
    "name": "ipython",
    "version": 3
   },
   "file_extension": ".py",
   "mimetype": "text/x-python",
   "name": "python",
   "nbconvert_exporter": "python",
   "pygments_lexer": "ipython3",
   "version": "3.9.2"
  }
 },
 "nbformat": 4,
 "nbformat_minor": 1
}
