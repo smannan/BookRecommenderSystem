{
 "cells": [
  {
   "cell_type": "code",
   "execution_count": 62,
   "metadata": {
    "collapsed": false
   },
   "outputs": [],
   "source": [
    "from sklearn.preprocessing import scale\n",
    "from surprise import SVD, SVDpp, BaselineOnly, KNNWithMeans\n",
    "from surprise import Dataset\n",
    "from surprise import Reader\n",
    "from surprise.model_selection import cross_validate, train_test_split"
   ]
  },
  {
   "cell_type": "code",
   "execution_count": 63,
   "metadata": {
    "collapsed": false
   },
   "outputs": [],
   "source": [
    "import pandas as pd"
   ]
  },
  {
   "cell_type": "markdown",
   "metadata": {},
   "source": [
    "### Read Ratings Data"
   ]
  },
  {
   "cell_type": "code",
   "execution_count": 64,
   "metadata": {
    "collapsed": false
   },
   "outputs": [
    {
     "data": {
      "text/html": [
       "<div>\n",
       "<style scoped>\n",
       "    .dataframe tbody tr th:only-of-type {\n",
       "        vertical-align: middle;\n",
       "    }\n",
       "\n",
       "    .dataframe tbody tr th {\n",
       "        vertical-align: top;\n",
       "    }\n",
       "\n",
       "    .dataframe thead th {\n",
       "        text-align: right;\n",
       "    }\n",
       "</style>\n",
       "<table border=\"1\" class=\"dataframe\">\n",
       "  <thead>\n",
       "    <tr style=\"text-align: right;\">\n",
       "      <th></th>\n",
       "      <th>User_Id</th>\n",
       "      <th>Book_Id</th>\n",
       "      <th>Rating</th>\n",
       "    </tr>\n",
       "  </thead>\n",
       "  <tbody>\n",
       "    <tr>\n",
       "      <th>0</th>\n",
       "      <td>114</td>\n",
       "      <td>101170</td>\n",
       "      <td>8</td>\n",
       "    </tr>\n",
       "    <tr>\n",
       "      <th>1</th>\n",
       "      <td>169</td>\n",
       "      <td>93424</td>\n",
       "      <td>7</td>\n",
       "    </tr>\n",
       "    <tr>\n",
       "      <th>2</th>\n",
       "      <td>183</td>\n",
       "      <td>266719</td>\n",
       "      <td>7</td>\n",
       "    </tr>\n",
       "    <tr>\n",
       "      <th>3</th>\n",
       "      <td>183</td>\n",
       "      <td>331686</td>\n",
       "      <td>7</td>\n",
       "    </tr>\n",
       "    <tr>\n",
       "      <th>4</th>\n",
       "      <td>183</td>\n",
       "      <td>368596</td>\n",
       "      <td>7</td>\n",
       "    </tr>\n",
       "  </tbody>\n",
       "</table>\n",
       "</div>"
      ],
      "text/plain": [
       "   User_Id  Book_Id  Rating\n",
       "0      114   101170       8\n",
       "1      169    93424       7\n",
       "2      183   266719       7\n",
       "3      183   331686       7\n",
       "4      183   368596       7"
      ]
     },
     "execution_count": 64,
     "metadata": {},
     "output_type": "execute_result"
    }
   ],
   "source": [
    "ratings = pd.read_csv('./data/train.csv')\n",
    "ratings.head()"
   ]
  },
  {
   "cell_type": "code",
   "execution_count": 31,
   "metadata": {
    "collapsed": false
   },
   "outputs": [
    {
     "data": {
      "text/plain": [
       "65053"
      ]
     },
     "execution_count": 31,
     "metadata": {},
     "output_type": "execute_result"
    }
   ],
   "source": [
    "len(ratings['User_Id'].unique())"
   ]
  },
  {
   "cell_type": "code",
   "execution_count": 32,
   "metadata": {
    "collapsed": false
   },
   "outputs": [
    {
     "data": {
      "text/plain": [
       "154621"
      ]
     },
     "execution_count": 32,
     "metadata": {},
     "output_type": "execute_result"
    }
   ],
   "source": [
    "len(ratings['Book_Id'].unique())"
   ]
  },
  {
   "cell_type": "code",
   "execution_count": 36,
   "metadata": {
    "collapsed": false
   },
   "outputs": [],
   "source": [
    "reader = Reader(rating_scale=(1, 10))\n",
    "data = Dataset.load_from_df(ratings, reader)"
   ]
  },
  {
   "cell_type": "markdown",
   "metadata": {},
   "source": [
    "### Experiment with a few models"
   ]
  },
  {
   "cell_type": "code",
   "execution_count": 17,
   "metadata": {
    "collapsed": false,
    "scrolled": true
   },
   "outputs": [
    {
     "name": "stdout",
     "output_type": "stream",
     "text": [
      "Estimating biases using als...\n",
      "Estimating biases using als...\n",
      "Estimating biases using als...\n",
      "Estimating biases using als...\n",
      "Estimating biases using als...\n",
      "Estimating biases using als...\n",
      "Estimating biases using als...\n",
      "Estimating biases using als...\n",
      "Estimating biases using als...\n",
      "Estimating biases using als...\n",
      "Evaluating RMSE, MAE of algorithm BaselineOnly on 10 split(s).\n",
      "\n",
      "                  Fold 1  Fold 2  Fold 3  Fold 4  Fold 5  Fold 6  Fold 7  Fold 8  Fold 9  Fold 10 Mean    Std     \n",
      "RMSE (testset)    1.6404  1.6516  1.6565  1.6517  1.6439  1.6429  1.6410  1.6484  1.6566  1.6506  1.6483  0.0057  \n",
      "MAE (testset)     1.2795  1.2768  1.2848  1.2825  1.2817  1.2730  1.2726  1.2782  1.2858  1.2806  1.2796  0.0043  \n",
      "Fit time          1.82    1.91    1.97    1.99    2.02    1.99    1.98    2.01    1.98    1.97    1.96    0.05    \n",
      "Test time         0.18    0.17    0.35    0.17    0.30    0.17    0.17    0.17    0.31    0.17    0.21    0.07    \n"
     ]
    },
    {
     "data": {
      "text/plain": [
       "{'test_rmse': array([1.64035871, 1.6516192 , 1.65646442, 1.65174803, 1.64387064,\n",
       "        1.64288313, 1.64099343, 1.64838811, 1.65657639, 1.65055562]),\n",
       " 'test_mae': array([1.27949109, 1.27677656, 1.28482268, 1.28251612, 1.28173684,\n",
       "        1.27303248, 1.27263084, 1.27819191, 1.2858192 , 1.28060143]),\n",
       " 'fit_time': (1.8245670795440674,\n",
       "  1.913559913635254,\n",
       "  1.9697940349578857,\n",
       "  1.9859070777893066,\n",
       "  2.017472982406616,\n",
       "  1.9940779209136963,\n",
       "  1.9795818328857422,\n",
       "  2.007594108581543,\n",
       "  1.9845669269561768,\n",
       "  1.9717018604278564),\n",
       " 'test_time': (0.17700815200805664,\n",
       "  0.16671323776245117,\n",
       "  0.3468489646911621,\n",
       "  0.1673750877380371,\n",
       "  0.30382800102233887,\n",
       "  0.16856694221496582,\n",
       "  0.16748905181884766,\n",
       "  0.17059993743896484,\n",
       "  0.30537891387939453,\n",
       "  0.16700315475463867)}"
      ]
     },
     "execution_count": 17,
     "metadata": {},
     "output_type": "execute_result"
    }
   ],
   "source": [
    "cross_validate(BaselineOnly(), data, measures=['RMSE'], cv=10, verbose=True)"
   ]
  },
  {
   "cell_type": "code",
   "execution_count": 8,
   "metadata": {
    "collapsed": false,
    "scrolled": true
   },
   "outputs": [
    {
     "name": "stdout",
     "output_type": "stream",
     "text": [
      "Computing the cosine similarity matrix...\n",
      "Done computing similarity matrix.\n",
      "Computing the cosine similarity matrix...\n",
      "Done computing similarity matrix.\n",
      "Computing the cosine similarity matrix...\n",
      "Done computing similarity matrix.\n",
      "Computing the cosine similarity matrix...\n",
      "Done computing similarity matrix.\n",
      "Computing the cosine similarity matrix...\n",
      "Done computing similarity matrix.\n",
      "Computing the cosine similarity matrix...\n",
      "Done computing similarity matrix.\n",
      "Computing the cosine similarity matrix...\n",
      "Done computing similarity matrix.\n",
      "Computing the cosine similarity matrix...\n",
      "Done computing similarity matrix.\n",
      "Computing the cosine similarity matrix...\n",
      "Done computing similarity matrix.\n",
      "Computing the cosine similarity matrix...\n",
      "Done computing similarity matrix.\n",
      "Evaluating RMSE of algorithm KNNWithMeans on 10 split(s).\n",
      "\n",
      "                  Fold 1  Fold 2  Fold 3  Fold 4  Fold 5  Fold 6  Fold 7  Fold 8  Fold 9  Fold 10 Mean    Std     \n",
      "RMSE (testset)    1.8498  1.8547  1.8335  1.8313  1.8372  1.8234  1.8415  1.8326  1.8530  1.8275  1.8385  0.0104  \n",
      "Fit time          273.46  286.44  277.23  282.70  276.77  274.86  274.54  266.66  380.32  65911.336850.43 19686.99\n",
      "Test time         1.64    1.94    1.66    1.63    1.94    1.67    1.95    1.61    3.50    2.76    2.03    0.59    \n"
     ]
    },
    {
     "data": {
      "text/plain": [
       "{'test_rmse': array([1.84980278, 1.85468974, 1.83346668, 1.83132629, 1.83718233,\n",
       "        1.82342555, 1.84151089, 1.83262617, 1.85301496, 1.82746491]),\n",
       " 'fit_time': (273.4564709663391,\n",
       "  286.44485807418823,\n",
       "  277.22668957710266,\n",
       "  282.701895236969,\n",
       "  276.76915884017944,\n",
       "  274.86271476745605,\n",
       "  274.5365397930145,\n",
       "  266.6601312160492,\n",
       "  380.3195300102234,\n",
       "  65911.32727193832),\n",
       " 'test_time': (1.6422569751739502,\n",
       "  1.9424610137939453,\n",
       "  1.663651943206787,\n",
       "  1.6305327415466309,\n",
       "  1.9365661144256592,\n",
       "  1.6698250770568848,\n",
       "  1.9496912956237793,\n",
       "  1.6147489547729492,\n",
       "  3.4971721172332764,\n",
       "  2.7631051540374756)}"
      ]
     },
     "execution_count": 8,
     "metadata": {},
     "output_type": "execute_result"
    }
   ],
   "source": [
    "cross_validate(KNNWithMeans(sim_options={'name': 'cosine','user_based': True}, k=10),\n",
    "               data, measures=['RMSE'], cv=10, verbose=True)"
   ]
  },
  {
   "cell_type": "markdown",
   "metadata": {},
   "source": [
    "### Visualize Results"
   ]
  },
  {
   "cell_type": "code",
   "execution_count": 9,
   "metadata": {
    "collapsed": false
   },
   "outputs": [
    {
     "data": {
      "image/png": "[encoded data removed]",
      "text/plain": [
       "<Figure size 432x288 with 1 Axes>"
      ]
     },
     "metadata": {
      "needs_background": "light"
     },
     "output_type": "display_data"
    }
   ],
   "source": [
    "import matplotlib.pyplot as plt\n",
    "plt.plot([1.64035871, 1.6516192 , 1.65646442, 1.65174803, 1.64387064,\n",
    "        1.64288313, 1.64099343, 1.64838811, 1.65657639, 1.65055562], color='red') # Baseline no norm\n",
    "plt.plot([1.6351393 , 1.63885243, 1.64715879, 1.64141364, 1.65178808,\n",
    "        1.6548407 , 1.6511768 , 1.64851284, 1.64350086, 1.63035403], color='blue') # SVD no normalization\n",
    "plt.plot([1.83162642, 1.83842444, 1.83894032, 1.84348497, 1.84681301,\n",
    "        1.84757849, 1.83108851, 1.86333115, 1.84969944, 1.83280018], color='green') # mean KNN with MSD sim metric\n",
    "plt.plot([1.84980278, 1.85468974, 1.83346668, 1.83132629, 1.83718233,\n",
    "        1.82342555, 1.84151089, 1.83262617, 1.85301496, 1.82746491], color='pink') # mean KNN with cosine sim metric\n",
    "plt.show()"
   ]
  },
  {
   "cell_type": "markdown",
   "metadata": {},
   "source": [
    "### Evaluation\n",
    "1. 10-fold SVD, no normalization =\n",
    "  - [1.6351393 , 1.63885243, 1.64715879, 1.64141364, 1.65178808, 1.6548407 , 1.6511768 , 1.64851284, 1.64350086, 1.63035403]\n",
    "2. 10-fold Baseline, no normalization =\n",
    "  - [1.64035871, 1.6516192 , 1.65646442, 1.65174803, 1.64387064, 1.64288313, 1.64099343, 1.64838811, 1.65657639, 1.65055562]\n",
    "3. 10-fold KNN with mean rating normalization and MSD similarity =\n",
    "  - [1.83162642, 1.83842444, 1.83894032, 1.84348497, 1.84681301, 1.84757849, 1.83108851, 1.86333115, 1.84969944, 1.83280018]"
   ]
  },
  {
   "cell_type": "markdown",
   "metadata": {},
   "source": [
    "### Grid Search on the best model from above\n",
    "- RMSE = 1.6501662923469678, params = {'n_epochs': 100, 'n_factors': 250}\n",
    "- Matrix factorization does better with less latent factors, more epochs did not affect performance much"
   ]
  },
  {
   "cell_type": "code",
   "execution_count": null,
   "metadata": {
    "collapsed": true
   },
   "outputs": [],
   "source": [
    "from surprise.model_selection import GridSearchCV\n",
    "\n",
    "param_grid = {'n_epochs': [50, 100], 'n_factors': [250, 500, 1000]}\n",
    "gs = GridSearchCV(SVD, param_grid, measures=['rmse', 'mae'], cv=5)\n",
    "\n",
    "gs.fit(data)\n",
    "\n",
    "# best RMSE score\n",
    "print(gs.best_score['rmse'])\n",
    "\n",
    "# combination of parameters that gave the best RMSE score\n",
    "print(gs.best_params['rmse'])"
   ]
  },
  {
   "cell_type": "markdown",
   "metadata": {},
   "source": [
    "### Make predictions"
   ]
  },
  {
   "cell_type": "code",
   "execution_count": 45,
   "metadata": {
    "collapsed": false
   },
   "outputs": [
    {
     "data": {
      "text/plain": [
       "<surprise.prediction_algorithms.matrix_factorization.SVD at 0x133d41760>"
      ]
     },
     "execution_count": 45,
     "metadata": {},
     "output_type": "execute_result"
    }
   ],
   "source": [
    "algo = SVD()\n",
    "algo.fit(data.build_full_trainset())"
   ]
  },
  {
   "cell_type": "code",
   "execution_count": 81,
   "metadata": {
    "collapsed": false
   },
   "outputs": [],
   "source": [
    "test_ratings = pd.read_csv('./data/test.csv')\n",
    "preds = []\n",
    "\n",
    "for rating_tuple in test_ratings.values:\n",
    "    user_id = rating_tuple[0]\n",
    "    book_id = rating_tuple[1]\n",
    "    sample_key = \"{0}-{1}\".format(user_id, book_id)\n",
    "    pred = algo.predict(user_id, book_id, verbose=False)\n",
    "\n",
    "    preds.append({'User_Id-Book_Id': sample_key, 'Rating': pred[3]})"
   ]
  },
  {
   "cell_type": "code",
   "execution_count": 82,
   "metadata": {
    "collapsed": false
   },
   "outputs": [
    {
     "data": {
      "text/html": [
       "<div>\n",
       "<style scoped>\n",
       "    .dataframe tbody tr th:only-of-type {\n",
       "        vertical-align: middle;\n",
       "    }\n",
       "\n",
       "    .dataframe tbody tr th {\n",
       "        vertical-align: top;\n",
       "    }\n",
       "\n",
       "    .dataframe thead th {\n",
       "        text-align: right;\n",
       "    }\n",
       "</style>\n",
       "<table border=\"1\" class=\"dataframe\">\n",
       "  <thead>\n",
       "    <tr style=\"text-align: right;\">\n",
       "      <th></th>\n",
       "      <th>User_Id-Book_Id</th>\n",
       "      <th>Rating</th>\n",
       "    </tr>\n",
       "  </thead>\n",
       "  <tbody>\n",
       "    <tr>\n",
       "      <th>0</th>\n",
       "      <td>242-343676</td>\n",
       "      <td>8.279989</td>\n",
       "    </tr>\n",
       "    <tr>\n",
       "      <th>1</th>\n",
       "      <td>254-58191</td>\n",
       "      <td>7.381760</td>\n",
       "    </tr>\n",
       "    <tr>\n",
       "      <th>2</th>\n",
       "      <td>503-76983</td>\n",
       "      <td>8.308763</td>\n",
       "    </tr>\n",
       "    <tr>\n",
       "      <th>3</th>\n",
       "      <td>626-340144</td>\n",
       "      <td>7.940903</td>\n",
       "    </tr>\n",
       "    <tr>\n",
       "      <th>4</th>\n",
       "      <td>628-261446</td>\n",
       "      <td>7.231615</td>\n",
       "    </tr>\n",
       "  </tbody>\n",
       "</table>\n",
       "</div>"
      ],
      "text/plain": [
       "  User_Id-Book_Id    Rating\n",
       "0      242-343676  8.279989\n",
       "1       254-58191  7.381760\n",
       "2       503-76983  8.308763\n",
       "3      626-340144  7.940903\n",
       "4      628-261446  7.231615"
      ]
     },
     "execution_count": 82,
     "metadata": {},
     "output_type": "execute_result"
    }
   ],
   "source": [
    "preds_df = pd.DataFrame(preds)\n",
    "preds_df.head()"
   ]
  },
  {
   "cell_type": "code",
   "execution_count": 60,
   "metadata": {
    "collapsed": false
   },
   "outputs": [
    {
     "data": {
      "text/plain": [
       "count    100000.000000\n",
       "mean          7.661599\n",
       "std           0.745285\n",
       "min           2.108299\n",
       "25%           7.338111\n",
       "50%           7.603539\n",
       "75%           8.017698\n",
       "max          10.000000\n",
       "Name: Rating, dtype: float64"
      ]
     },
     "execution_count": 60,
     "metadata": {},
     "output_type": "execute_result"
    }
   ],
   "source": [
    "preds_df['Rating'].describe()"
   ]
  },
  {
   "cell_type": "code",
   "execution_count": 66,
   "metadata": {
    "collapsed": false
   },
   "outputs": [
    {
     "data": {
      "text/plain": [
       "count    333627.000000\n",
       "mean          7.603539\n",
       "std           1.842235\n",
       "min           1.000000\n",
       "25%           7.000000\n",
       "50%           8.000000\n",
       "75%           9.000000\n",
       "max          10.000000\n",
       "Name: Rating, dtype: float64"
      ]
     },
     "execution_count": 66,
     "metadata": {},
     "output_type": "execute_result"
    }
   ],
   "source": [
    "ratings['Rating'].describe()"
   ]
  },
  {
   "cell_type": "code",
   "execution_count": 80,
   "metadata": {
    "collapsed": false
   },
   "outputs": [
    {
     "name": "stdout",
     "output_type": "stream",
     "text": [
      "100000\n"
     ]
    }
   ],
   "source": [
    "print (len(preds_df))"
   ]
  },
  {
   "cell_type": "code",
   "execution_count": 83,
   "metadata": {
    "collapsed": false
   },
   "outputs": [],
   "source": [
    "preds_df.to_csv('solution.csv', index=False)"
   ]
  },
  {
   "cell_type": "markdown",
   "metadata": {},
   "source": [
    "### Explore Book metadata"
   ]
  },
  {
   "cell_type": "code",
   "execution_count": 9,
   "metadata": {
    "collapsed": true
   },
   "outputs": [],
   "source": [
    "metadata = pd.read_csv('./data/Book_Info.csv')"
   ]
  },
  {
   "cell_type": "code",
   "execution_count": 10,
   "metadata": {
    "collapsed": false
   },
   "outputs": [
    {
     "data": {
      "text/html": [
       "<div>\n",
       "<style scoped>\n",
       "    .dataframe tbody tr th:only-of-type {\n",
       "        vertical-align: middle;\n",
       "    }\n",
       "\n",
       "    .dataframe tbody tr th {\n",
       "        vertical-align: top;\n",
       "    }\n",
       "\n",
       "    .dataframe thead th {\n",
       "        text-align: right;\n",
       "    }\n",
       "</style>\n",
       "<table border=\"1\" class=\"dataframe\">\n",
       "  <thead>\n",
       "    <tr style=\"text-align: right;\">\n",
       "      <th></th>\n",
       "      <th>BOOK_ID</th>\n",
       "      <th>Title</th>\n",
       "      <th>Author</th>\n",
       "      <th>Publication_Year</th>\n",
       "      <th>Publisher_Name</th>\n",
       "      <th>Image_S_URL</th>\n",
       "      <th>Image_M_URL</th>\n",
       "      <th>Image_L_URL</th>\n",
       "    </tr>\n",
       "  </thead>\n",
       "  <tbody>\n",
       "    <tr>\n",
       "      <th>0</th>\n",
       "      <td>249992</td>\n",
       "      <td>Zombies</td>\n",
       "      <td>Bret Easton Ellis</td>\n",
       "      <td>2000</td>\n",
       "      <td>18-Oct</td>\n",
       "      <td>http://images.amazon.com/images/P/2264026545.0...</td>\n",
       "      <td>http://images.amazon.com/images/P/2264026545.0...</td>\n",
       "      <td>http://images.amazon.com/images/P/2264026545.0...</td>\n",
       "    </tr>\n",
       "    <tr>\n",
       "      <th>1</th>\n",
       "      <td>235568</td>\n",
       "      <td>The Wicked Priest: An Allegory in Two Acts</td>\n",
       "      <td>Bob Levis</td>\n",
       "      <td>2000</td>\n",
       "      <td>1stBooks Library</td>\n",
       "      <td>http://images.amazon.com/images/P/1587214768.0...</td>\n",
       "      <td>http://images.amazon.com/images/P/1587214768.0...</td>\n",
       "      <td>http://images.amazon.com/images/P/1587214768.0...</td>\n",
       "    </tr>\n",
       "    <tr>\n",
       "      <th>2</th>\n",
       "      <td>218052</td>\n",
       "      <td>The Wondering Life</td>\n",
       "      <td>Colleen Cherwinski</td>\n",
       "      <td>2003</td>\n",
       "      <td>1stBooks Library</td>\n",
       "      <td>http://images.amazon.com/images/P/1414025696.0...</td>\n",
       "      <td>http://images.amazon.com/images/P/1414025696.0...</td>\n",
       "      <td>http://images.amazon.com/images/P/1414025696.0...</td>\n",
       "    </tr>\n",
       "    <tr>\n",
       "      <th>3</th>\n",
       "      <td>217941</td>\n",
       "      <td>Power Health - Back to Basics</td>\n",
       "      <td>Dr Martin P. Rutherford</td>\n",
       "      <td>2003</td>\n",
       "      <td>1stBooks Library</td>\n",
       "      <td>http://images.amazon.com/images/P/1410775488.0...</td>\n",
       "      <td>http://images.amazon.com/images/P/1410775488.0...</td>\n",
       "      <td>http://images.amazon.com/images/P/1410775488.0...</td>\n",
       "    </tr>\n",
       "    <tr>\n",
       "      <th>4</th>\n",
       "      <td>242438</td>\n",
       "      <td>See a Grown Man Cry, Now Watch Him Die</td>\n",
       "      <td>Henry Rollins</td>\n",
       "      <td>1997</td>\n",
       "      <td>2.13.61 Publications</td>\n",
       "      <td>http://images.amazon.com/images/P/1880985373.0...</td>\n",
       "      <td>http://images.amazon.com/images/P/1880985373.0...</td>\n",
       "      <td>http://images.amazon.com/images/P/1880985373.0...</td>\n",
       "    </tr>\n",
       "  </tbody>\n",
       "</table>\n",
       "</div>"
      ],
      "text/plain": [
       "   BOOK_ID                                       Title  \\\n",
       "0   249992                                     Zombies   \n",
       "1   235568  The Wicked Priest: An Allegory in Two Acts   \n",
       "2   218052                          The Wondering Life   \n",
       "3   217941               Power Health - Back to Basics   \n",
       "4   242438      See a Grown Man Cry, Now Watch Him Die   \n",
       "\n",
       "                    Author  Publication_Year        Publisher_Name  \\\n",
       "0        Bret Easton Ellis              2000                18-Oct   \n",
       "1                Bob Levis              2000      1stBooks Library   \n",
       "2       Colleen Cherwinski              2003      1stBooks Library   \n",
       "3  Dr Martin P. Rutherford              2003      1stBooks Library   \n",
       "4            Henry Rollins              1997  2.13.61 Publications   \n",
       "\n",
       "                                         Image_S_URL  \\\n",
       "0  http://images.amazon.com/images/P/2264026545.0...   \n",
       "1  http://images.amazon.com/images/P/1587214768.0...   \n",
       "2  http://images.amazon.com/images/P/1414025696.0...   \n",
       "3  http://images.amazon.com/images/P/1410775488.0...   \n",
       "4  http://images.amazon.com/images/P/1880985373.0...   \n",
       "\n",
       "                                         Image_M_URL  \\\n",
       "0  http://images.amazon.com/images/P/2264026545.0...   \n",
       "1  http://images.amazon.com/images/P/1587214768.0...   \n",
       "2  http://images.amazon.com/images/P/1414025696.0...   \n",
       "3  http://images.amazon.com/images/P/1410775488.0...   \n",
       "4  http://images.amazon.com/images/P/1880985373.0...   \n",
       "\n",
       "                                         Image_L_URL  \n",
       "0  http://images.amazon.com/images/P/2264026545.0...  \n",
       "1  http://images.amazon.com/images/P/1587214768.0...  \n",
       "2  http://images.amazon.com/images/P/1414025696.0...  \n",
       "3  http://images.amazon.com/images/P/1410775488.0...  \n",
       "4  http://images.amazon.com/images/P/1880985373.0...  "
      ]
     },
     "execution_count": 10,
     "metadata": {},
     "output_type": "execute_result"
    }
   ],
   "source": [
    "metadata.head()"
   ]
  },
  {
   "cell_type": "markdown",
   "metadata": {},
   "source": [
    "- Year to decade\n",
    "- Named entities from the title\n",
    "- Genre (based on title, image, and author?)\n",
    "- Sentiment of the title\n",
    "- Publisher name"
   ]
  },
  {
   "cell_type": "code",
   "execution_count": 24,
   "metadata": {
    "collapsed": false,
    "scrolled": false
   },
   "outputs": [
    {
     "data": {
      "text/plain": [
       "102028"
      ]
     },
     "execution_count": 24,
     "metadata": {},
     "output_type": "execute_result"
    }
   ],
   "source": [
    "len(metadata['Author'].unique())"
   ]
  },
  {
   "cell_type": "code",
   "execution_count": 25,
   "metadata": {
    "collapsed": false
   },
   "outputs": [
    {
     "data": {
      "text/plain": [
       "16806"
      ]
     },
     "execution_count": 25,
     "metadata": {},
     "output_type": "execute_result"
    }
   ],
   "source": [
    "len(metadata['Publisher_Name'].unique())"
   ]
  },
  {
   "cell_type": "code",
   "execution_count": null,
   "metadata": {
    "collapsed": true
   },
   "outputs": [],
   "source": []
  }
 ],
 "metadata": {
  "anaconda-cloud": {},
  "kernelspec": {
   "display_name": "Python 3 (ipykernel)",
   "language": "python",
   "name": "python3"
  },
  "language_info": {
   "codemirror_mode": {
    "name": "ipython",
    "version": 3
   },
   "file_extension": ".py",
   "mimetype": "text/x-python",
   "name": "python",
   "nbconvert_exporter": "python",
   "pygments_lexer": "ipython3",
   "version": "3.9.2"
  }
 },
 "nbformat": 4,
 "nbformat_minor": 1
}
